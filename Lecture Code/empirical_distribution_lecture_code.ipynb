{
 "cells": [
  {
   "cell_type": "code",
   "execution_count": 21,
   "id": "edf04dec-11c4-4428-aefe-be614eb2baf9",
   "metadata": {},
   "outputs": [],
   "source": [
    "# Sampling distribution lecture code for BSOS233\n",
    "# created by Jacob J. Coutts\n",
    "\n",
    "# Load required packages\n",
    "import numpy as np \n",
    "from datascience import *\n",
    "import random # allows us to set seed\n",
    "import statistics # allows us to use math functions\n",
    "\n",
    "# These lines do some fancy plotting magic.\n",
    "import matplotlib\n",
    "%matplotlib inline\n",
    "import matplotlib.pyplot as plt\n",
    "\n",
    "# set seed to reproduce results\n",
    "random.seed(10172023)\n",
    "\n",
    "# Read in the data \n",
    "marketing = Table.read_table(\"marketing.csv\")"
   ]
  },
  {
   "cell_type": "code",
   "execution_count": 13,
   "id": "c55ffdf3-69d2-4aee-ba67-4e47a97ffe34",
   "metadata": {},
   "outputs": [
    {
     "data": {
      "text/html": [
       "<table border=\"1\" class=\"dataframe\">\n",
       "    <thead>\n",
       "        <tr>\n",
       "            <th>ad</th> <th>not purchase</th> <th>purchase</th>\n",
       "        </tr>\n",
       "    </thead>\n",
       "    <tbody>\n",
       "        <tr>\n",
       "            <td>funny        </td> <td>117         </td> <td>58      </td>\n",
       "        </tr>\n",
       "        <tr>\n",
       "            <td>informational</td> <td>133         </td> <td>42      </td>\n",
       "        </tr>\n",
       "    </tbody>\n",
       "</table>"
      ],
      "text/plain": [
       "ad            | not purchase | purchase\n",
       "funny         | 117          | 58\n",
       "informational | 133          | 42"
      ]
     },
     "execution_count": 13,
     "metadata": {},
     "output_type": "execute_result"
    }
   ],
   "source": [
    "# create contingency table to understand data\n",
    "piv_marketing = marketing.pivot(\"decision\",\"ad\")\n",
    "piv_marketing"
   ]
  },
  {
   "cell_type": "code",
   "execution_count": 14,
   "id": "6803c6bf-e673-4019-aa45-d9e99b9b624d",
   "metadata": {},
   "outputs": [
    {
     "name": "stdout",
     "output_type": "stream",
     "text": [
      "[ 0.33142857]\n",
      "[ 0.24]\n",
      "[ 0.09142857]\n",
      "ad            | not purchase | purchase\n",
      "funny         | 117          | 58\n",
      "informational | 133          | 42\n"
     ]
    }
   ],
   "source": [
    "# find probability of purchasing if in the funny ad condition\n",
    "funny_prob = piv_marketing.take(0)[2]/(piv_marketing.column(\"purchase\")[0] + piv_marketing.take(0)[1])\n",
    "# find the probability of purchasing if in the informational ad condition\n",
    "informational_prob = piv_marketing.take(1)[2]/(piv_marketing.column(\"not purchase\")[1] + piv_marketing.take(1)[2])\n",
    "# find difference between groups\n",
    "cond_dif = funny_prob-informational_prob\n",
    "# print the probabilities\n",
    "print(funny_prob) # should be .3314...\n",
    "print(informational_prob) # should be .24\n",
    "print(cond_dif) # should be .0914...\n",
    "print(piv_marketing)"
   ]
  },
  {
   "cell_type": "code",
   "execution_count": 15,
   "id": "833c2883-93be-417b-9075-6229c9a0642b",
   "metadata": {},
   "outputs": [
    {
     "name": "stdout",
     "output_type": "stream",
     "text": [
      "[ 0.27428571]\n",
      "[ 0.29714286]\n",
      "[-0.02285714]\n",
      "ad            | not purchase | purchase\n",
      "funny         | 127          | 48\n",
      "informational | 123          | 52\n"
     ]
    }
   ],
   "source": [
    "# shuffle for a single group and verify it works before simulating\n",
    "n = marketing.num_rows # number of rows\n",
    "shuffled_outcome = marketing.sample(n, with_replacement = False).column(\"decision\") # shuffle Table and select the column\n",
    "simulated_trial = Table().with_columns(\"ad\", marketing.column(\"ad\"), \"decision\", shuffled_outcome) # recreate table\n",
    "psim = simulated_trial.pivot(\"decision\",\"ad\") # create pivot table for shuffled data\n",
    "funny_sim_prob = psim.take(0)[2]/(psim.column(\"purchase\")[0] + psim.take(0)[1]) # grab appropriate values for probabilty\n",
    "informational_sim_prob = psim.take(1)[2]/(psim.column(\"not purchase\")[1] + psim.take(1)[2]) # grab appropriate values for probabilty\n",
    "sim_cond_dif = funny_sim_prob - informational_sim_prob # store difference\n",
    "\n",
    "print(funny_sim_prob) # probability of purchasing under null in funny condition\n",
    "print(informational_sim_prob) # probability of purchasing under null in informational condition\n",
    "print(sim_cond_dif)\n",
    "print(psim)"
   ]
  },
  {
   "cell_type": "code",
   "execution_count": 16,
   "id": "c1d8221c-a304-4903-b93c-7e39dcf19725",
   "metadata": {},
   "outputs": [],
   "source": [
    "funny_sim_prob = psim.take(0)[2]/(psim.column(\"purchase\")[0] + psim.take(0)[1]) \n"
   ]
  },
  {
   "cell_type": "code",
   "execution_count": 17,
   "id": "4b7e4412-bd38-40c0-8b6e-2e9580c95216",
   "metadata": {},
   "outputs": [],
   "source": [
    "# simulate this many times for sampling distribution\n",
    "iterations = 1000 # set number of loops\n",
    "cond_dif_results = make_array() # array to store differences\n",
    "\n",
    "# loop and store probability in each iteration. we will be doing what is in the prior code block many times\n",
    "for i in np.arange(iterations):\n",
    "    shuffled_outcome = marketing.sample(marketing.num_rows, with_replacement = False).column(\"decision\") # shuffle table and grab outcome\n",
    "    simulated_trial = Table().with_columns(\"ad\", marketing.column(\"ad\"), \"decision\", shuffled_outcome) # create table with og pred. and new outcome\n",
    "    psim = simulated_trial.pivot(\"decision\",\"ad\") # create pivot table for shuffled data\n",
    "    funny_sim_prob = psim.take(0)[2]/(psim.column(\"purchase\")[0] + psim.take(0)[1]) # compute shuffled funny_sim_prob\n",
    "    informational_sim_prob = psim.take(1)[2]/(psim.column(\"not purchase\")[1] + psim.take(1)[2]) # compute shuffled informational_sim_prob\n",
    "    cond_dif_results = np.append(cond_dif_results, funny_sim_prob - informational_sim_prob)"
   ]
  },
  {
   "cell_type": "code",
   "execution_count": 22,
   "id": "0be9b8f6-f3ea-4401-964b-88acb6d31182",
   "metadata": {},
   "outputs": [
    {
     "name": "stdout",
     "output_type": "stream",
     "text": [
      "[ 0.09142857]\n",
      "0.047949679792469564\n",
      "[-0.09142857  0.10285714]\n"
     ]
    },
    {
     "data": {
      "image/png": "[encoded data removed]",
      "text/plain": [
       "<Figure size 600x400 with 1 Axes>"
      ]
     },
     "metadata": {},
     "output_type": "display_data"
    }
   ],
   "source": [
    "# put results in a table so we can visualize\n",
    "tot_res = Table().with_columns(\n",
    "    \"cond_dif_results\", cond_dif_results\n",
    ")\n",
    "tot_res.select(\"cond_dif_results\").hist() # histogram of differences\n",
    "print(cond_dif) # original estimate of difference\n",
    "np.sum(tot_res.column(\"cond_dif_results\") >= .091)/1000 # how many greater than observed?\n",
    "print(statistics.stdev(tot_res.column(\"cond_dif_results\"))) # sd of differences, should be within +/2 SDs, barely excluded\n",
    "print(np.quantile(tot_res.column(\"cond_dif_results\"), [.025,.975])) # 95%CI for differences, if 0 excluded, then significant"
   ]
  },
  {
   "cell_type": "code",
   "execution_count": null,
   "id": "dbfd40e3-6607-453b-8050-f4ffc0157a2f",
   "metadata": {},
   "outputs": [],
   "source": []
  }
 ],
 "metadata": {
  "kernelspec": {
   "display_name": "Python 3 (ipykernel)",
   "language": "python",
   "name": "python3"
  },
  "language_info": {
   "codemirror_mode": {
    "name": "ipython",
    "version": 3
   },
   "file_extension": ".py",
   "mimetype": "text/x-python",
   "name": "python",
   "nbconvert_exporter": "python",
   "pygments_lexer": "ipython3",
   "version": "3.8.10"
  }
 },
 "nbformat": 4,
 "nbformat_minor": 5
}
